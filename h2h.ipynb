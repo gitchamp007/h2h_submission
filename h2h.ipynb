{
  "nbformat": 4,
  "nbformat_minor": 0,
  "metadata": {
    "colab": {
      "provenance": []
    },
    "kernelspec": {
      "name": "python3",
      "display_name": "Python 3"
    },
    "language_info": {
      "name": "python"
    }
  },
  "cells": [
    {
      "cell_type": "code",
      "execution_count": 1,
      "metadata": {
        "colab": {
          "base_uri": "https://localhost:8080/"
        },
        "id": "48fLf8XfScPe",
        "outputId": "3d353f0d-656a-446e-d872-f12e708ea45a"
      },
      "outputs": [
        {
          "output_type": "stream",
          "name": "stdout",
          "text": [
            "RELIANCE.NS Data:\n",
            "                       Date      Open      High       Low     Close  \\\n",
            "0 1996-01-01 00:00:00+05:30  7.269977  7.308986  7.222101  7.296574   \n",
            "1 1996-01-02 00:00:00+05:30  7.278843  7.314306  7.186638  7.239832   \n",
            "2 1996-01-03 00:00:00+05:30  7.358634  7.693763  7.278843  7.294801   \n",
            "3 1996-01-04 00:00:00+05:30  7.225647  7.248698  7.129896  7.227420   \n",
            "4 1996-01-05 00:00:00+05:30  7.199050  7.199050  7.115711  7.177772   \n",
            "\n",
            "      Volume  Dividends  Stock Splits  \n",
            "0  104121369        0.0           0.0  \n",
            "1  168743308        0.0           0.0  \n",
            "2  209323879        0.0           0.0  \n",
            "3  216900264        0.0           0.0  \n",
            "4  166708467        0.0           0.0  \n"
          ]
        }
      ],
      "source": [
        "import yfinance as yf\n",
        "import pandas as pd\n",
        "\n",
        "# 5 NIFTY 50 stocks from different sectors\n",
        "stocks = ['RELIANCE.NS', 'HDFCBANK.NS', 'INFY.NS', 'TATAMOTORS.NS', 'HINDUNILVR.NS']\n",
        "\n",
        "# Fetch historical daily data (last 60 days)\n",
        "def fetch_stock_data(symbols, period='max', interval='1d'):\n",
        "    data = {}\n",
        "    for symbol in symbols:\n",
        "        ticker = yf.Ticker(symbol)\n",
        "        hist = ticker.history(period=period, interval=interval)\n",
        "        hist.reset_index(inplace=True)\n",
        "        data[symbol] = hist\n",
        "    return data\n",
        "\n",
        "# Call the function\n",
        "stock_data = fetch_stock_data(stocks)\n",
        "\n",
        "# Example: Display first few rows of RELIANCE data\n",
        "print(\"RELIANCE.NS Data:\")\n",
        "print(stock_data['RELIANCE.NS'].head())\n"
      ]
    },
    {
      "cell_type": "code",
      "source": [
        "import pandas as pd\n",
        "import numpy as np\n",
        "\n",
        "# RSI calculation\n",
        "def calculate_rsi(series, period=14):\n",
        "    delta = series.diff()\n",
        "    gain = delta.clip(lower=0)\n",
        "    loss = -delta.clip(upper=0)\n",
        "    avg_gain = gain.rolling(window=period, min_periods=period).mean()\n",
        "    avg_loss = loss.rolling(window=period, min_periods=period).mean()\n",
        "    rs = avg_gain / avg_loss\n",
        "    rsi = 100 - (100 / (1 + rs))\n",
        "    return rsi\n",
        "\n",
        "# Backtest Strategy: RSI < 30 + 20DMA crosses above 50DMA\n",
        "def backtest_strategy(df):\n",
        "    df = df.copy()\n",
        "    df['RSI'] = calculate_rsi(df['Close'])\n",
        "    df['20DMA'] = df['Close'].rolling(window=20).mean()\n",
        "    df['50DMA'] = df['Close'].rolling(window=50).mean()\n",
        "\n",
        "    # Detect crossover: 20DMA today > 50DMA today and yesterday 20DMA <= 50DMA\n",
        "    df['DMA_Cross'] = (df['20DMA'] > df['50DMA']) & (df['20DMA'].shift(1) <= df['50DMA'].shift(1))\n",
        "\n",
        "    # Buy signal when RSI < 30 and DMA crossover happens\n",
        "    df['Buy_Signal'] = (df['RSI'] < 30) & (df['DMA_Cross'])\n",
        "\n",
        "    # Position: hold after buy (forward fill), enter position next day (shift)\n",
        "    df['Position'] = 0\n",
        "    df.loc[df['Buy_Signal'], 'Position'] = 1\n",
        "    df['Position'] = df['Position'].replace(to_replace=0, method='ffill').shift(1).fillna(0)\n",
        "\n",
        "    # Calculate daily returns and strategy returns\n",
        "    df['Returns'] = df['Close'].pct_change()\n",
        "    df['Strategy_Returns'] = df['Returns'] * df['Position']\n",
        "\n",
        "    return df\n",
        "\n",
        "# Calculate performance metrics\n",
        "def calculate_metrics(df, risk_free_rate=0.06):  # annualized R_f\n",
        "    df = df.copy()\n",
        "\n",
        "    if df['Position'].sum() == 0:\n",
        "        return {\n",
        "            'Total Return': None,\n",
        "            'Max Drawdown': None,\n",
        "            'Annualized Return': None,\n",
        "            'Annualized Volatility': None,\n",
        "            'Sharpe Ratio': None,\n",
        "            'Trades': 0\n",
        "        }\n",
        "\n",
        "    strategy_df = df[df['Position'] > 0].copy()\n",
        "\n",
        "    cumulative_return = (strategy_df['Strategy_Returns'] + 1).prod() - 1\n",
        "    cumulative = (strategy_df['Strategy_Returns'] + 1).cumprod()\n",
        "    running_max = np.maximum.accumulate(cumulative)\n",
        "    drawdown = (cumulative - running_max) / running_max\n",
        "    max_drawdown = drawdown.min()\n",
        "\n",
        "    n_days = len(strategy_df)\n",
        "    annualized_return = (1 + cumulative_return) ** (252 / n_days) - 1 if n_days > 0 else None\n",
        "    annualized_volatility = strategy_df['Strategy_Returns'].std() * np.sqrt(252)\n",
        "\n",
        "    # Sharpe with risk-free rate\n",
        "    excess_return = annualized_return - risk_free_rate\n",
        "    sharpe_ratio = (excess_return / annualized_volatility) if annualized_volatility != 0 else None\n",
        "\n",
        "    trades = int(df['Buy_Signal'].sum())\n",
        "\n",
        "    return {\n",
        "        'Total Return': cumulative_return,\n",
        "        'Max Drawdown': max_drawdown,\n",
        "        'Annualized Return': annualized_return,\n",
        "        'Annualized Volatility': annualized_volatility,\n",
        "        'Sharpe Ratio': sharpe_ratio,\n",
        "        'Trades': trades\n",
        "    }\n",
        "\n",
        "results = {}\n",
        "metrics_summary = {}\n",
        "\n",
        "for symbol, df in stock_data.items():\n",
        "    df_bt = backtest_strategy(df)\n",
        "    metrics = calculate_metrics(df_bt)\n",
        "    results[symbol] = df_bt\n",
        "    metrics_summary[symbol] = metrics\n",
        "\n",
        "    print(f\"\\nMetrics for {symbol}:\")\n",
        "    if metrics['Trades'] == 0:\n",
        "        print(\"No trades triggered by the strategy in the backtest period.\")\n",
        "    else:\n",
        "        for k, v in metrics.items():\n",
        "            if k == 'Trades':\n",
        "                print(f\"{k}: {v}\")\n",
        "            elif v is None or pd.isna(v):\n",
        "                print(f\"{k}: N/A\")\n",
        "            else:\n",
        "                print(f\"{k}: {v:.2%}\")\n"
      ],
      "metadata": {
        "colab": {
          "base_uri": "https://localhost:8080/"
        },
        "id": "nv8rJ_l-WOZZ",
        "outputId": "c5f05b0f-3171-4a33-9558-b4881fb41f43"
      },
      "execution_count": 15,
      "outputs": [
        {
          "output_type": "stream",
          "name": "stdout",
          "text": [
            "\n",
            "Metrics for RELIANCE.NS:\n",
            "Total Return: 20439.05%\n",
            "Max Drawdown: -77.59%\n",
            "Annualized Return: 20.36%\n",
            "Annualized Volatility: 75.59%\n",
            "Sharpe Ratio: 18.99%\n",
            "Trades: 1\n",
            "\n",
            "Metrics for HDFCBANK.NS:\n",
            "Total Return: 41357.42%\n",
            "Max Drawdown: -55.11%\n",
            "Annualized Return: 25.32%\n",
            "Annualized Volatility: 32.19%\n",
            "Sharpe Ratio: 60.01%\n",
            "Trades: 2\n",
            "\n",
            "Metrics for INFY.NS:\n",
            "No trades triggered by the strategy in the backtest period.\n",
            "\n",
            "Metrics for TATAMOTORS.NS:\n",
            "Total Return: 2377.79%\n",
            "Max Drawdown: -89.44%\n",
            "Annualized Return: 10.40%\n",
            "Annualized Volatility: 45.63%\n",
            "Sharpe Ratio: 9.64%\n",
            "Trades: 2\n",
            "\n",
            "Metrics for HINDUNILVR.NS:\n",
            "Total Return: 2588.12%\n",
            "Max Drawdown: -42.26%\n",
            "Annualized Return: 18.19%\n",
            "Annualized Volatility: 26.45%\n",
            "Sharpe Ratio: 46.11%\n",
            "Trades: 2\n"
          ]
        },
        {
          "output_type": "stream",
          "name": "stderr",
          "text": [
            "/tmp/ipython-input-15-4034684323.py:31: FutureWarning: The 'method' keyword in Series.replace is deprecated and will be removed in a future version.\n",
            "  df['Position'] = df['Position'].replace(to_replace=0, method='ffill').shift(1).fillna(0)\n",
            "/tmp/ipython-input-15-4034684323.py:31: FutureWarning: The 'method' keyword in Series.replace is deprecated and will be removed in a future version.\n",
            "  df['Position'] = df['Position'].replace(to_replace=0, method='ffill').shift(1).fillna(0)\n",
            "/tmp/ipython-input-15-4034684323.py:31: FutureWarning: The 'method' keyword in Series.replace is deprecated and will be removed in a future version.\n",
            "  df['Position'] = df['Position'].replace(to_replace=0, method='ffill').shift(1).fillna(0)\n",
            "/tmp/ipython-input-15-4034684323.py:31: FutureWarning: The 'method' keyword in Series.replace is deprecated and will be removed in a future version.\n",
            "  df['Position'] = df['Position'].replace(to_replace=0, method='ffill').shift(1).fillna(0)\n",
            "/tmp/ipython-input-15-4034684323.py:31: FutureWarning: The 'method' keyword in Series.replace is deprecated and will be removed in a future version.\n",
            "  df['Position'] = df['Position'].replace(to_replace=0, method='ffill').shift(1).fillna(0)\n"
          ]
        }
      ]
    },
    {
      "cell_type": "code",
      "source": [
        "from sklearn.linear_model import LogisticRegression\n",
        "from sklearn.model_selection import train_test_split\n",
        "from sklearn.metrics import accuracy_score\n",
        "\n",
        "def calculate_macd(close, fast=12, slow=26, signal=9):\n",
        "    exp1 = close.ewm(span=fast, adjust=False).mean()\n",
        "    exp2 = close.ewm(span=slow, adjust=False).mean()\n",
        "    macd = exp1 - exp2\n",
        "    signal_line = macd.ewm(span=signal, adjust=False).mean()\n",
        "    macd_hist = macd - signal_line\n",
        "    return macd, signal_line, macd_hist\n",
        "\n",
        "def add_technical_indicators(df):\n",
        "    df = df.copy()\n",
        "    df['RSI'] = calculate_rsi(df['Close'])\n",
        "    macd, macd_signal, macd_hist = calculate_macd(df['Close'])\n",
        "    df['MACD'] = macd\n",
        "    df['MACD_Signal'] = macd_signal\n",
        "    df['MACD_Hist'] = macd_hist\n",
        "    df['Volume'] = df['Volume']\n",
        "\n",
        "    df['Next_Return'] = df['Close'].pct_change().shift(-1)\n",
        "    df['Target'] = (df['Next_Return'] > 0).astype(int)\n",
        "    df = df.dropna(subset=['RSI', 'MACD', 'MACD_Signal', 'MACD_Hist', 'Volume', 'Target'])\n",
        "    return df\n",
        "\n",
        "\n",
        "def train_predict_ml(df):\n",
        "    df = add_technical_indicators(df)\n",
        "\n",
        "    features = ['RSI', 'MACD', 'MACD_Signal', 'MACD_Hist', 'Volume']\n",
        "    X = df[features]\n",
        "    y = df['Target']\n",
        "\n",
        "    X_train, X_test, y_train, y_test = train_test_split(X, y, test_size=0.2, shuffle=False)  # Time series split style\n",
        "\n",
        "    model = LogisticRegression(max_iter=1000)\n",
        "    model.fit(X_train, y_train)\n",
        "    y_pred = model.predict(X_test)\n",
        "\n",
        "    accuracy = accuracy_score(y_test, y_pred)\n",
        "    return accuracy, model\n",
        "\n",
        "# --- Example usage ---\n",
        "\n",
        "for symbol, df in stock_data.items():\n",
        "    accuracy, model = train_predict_ml(df)\n",
        "    print(f\"ML Prediction Accuracy for {symbol}: {accuracy:.2%}\")\n"
      ],
      "metadata": {
        "colab": {
          "base_uri": "https://localhost:8080/"
        },
        "id": "9bW0orCRXH5z",
        "outputId": "30fdf306-610d-4913-f7d2-4f7fb2311fa9"
      },
      "execution_count": 16,
      "outputs": [
        {
          "output_type": "stream",
          "name": "stdout",
          "text": [
            "ML Prediction Accuracy for RELIANCE.NS: 48.17%\n",
            "ML Prediction Accuracy for HDFCBANK.NS: 53.41%\n",
            "ML Prediction Accuracy for INFY.NS: 49.43%\n",
            "ML Prediction Accuracy for TATAMOTORS.NS: 51.24%\n",
            "ML Prediction Accuracy for HINDUNILVR.NS: 50.24%\n"
          ]
        }
      ]
    },
    {
      "cell_type": "code",
      "source": [
        "import gspread\n",
        "from google.oauth2.service_account import Credentials\n",
        "import pandas as pd\n",
        "\n",
        "# Authenticate with Google Sheets\n",
        "def init_gsheets(creds_json_path, sheet_name):\n",
        "    scopes = [\n",
        "        'https://www.googleapis.com/auth/spreadsheets',\n",
        "        'https://www.googleapis.com/auth/drive'\n",
        "    ]\n",
        "    creds = Credentials.from_service_account_file(creds_json_path, scopes=scopes)\n",
        "    client = gspread.authorize(creds)\n",
        "    sheet = client.open(sheet_name)\n",
        "    return sheet\n",
        "\n",
        "\n",
        "# Prepare trade log dataframe from strategy df\n",
        "def extract_trade_log(df):\n",
        "    df = df.copy()\n",
        "    df['Trade_Signal'] = df['Buy_Signal'].replace({False: '', True: 'BUY'})\n",
        "    trade_log = df[df['Buy_Signal']].copy()\n",
        "    trade_log = trade_log[['Date', 'Close', 'Trade_Signal']]\n",
        "    trade_log['P&L'] = df['Strategy_Returns'].cumsum()\n",
        "    return trade_log\n",
        "\n",
        "# Calculate summary P&L and win ratio\n",
        "def summary_metrics(df):\n",
        "    total_pnl = df['Strategy_Returns'].sum()\n",
        "    trades = df['Buy_Signal'].sum()\n",
        "    wins = ((df['Strategy_Returns'] > 0) & (df['Position'] == 1)).sum()\n",
        "    win_ratio = wins / trades if trades > 0 else 0\n",
        "    summary = pd.DataFrame({\n",
        "        'Metric': ['Total P&L', 'Total Trades', 'Winning Trades', 'Win Ratio'],\n",
        "        'Value': [total_pnl, trades, wins, win_ratio]\n",
        "    })\n",
        "    return summary\n",
        "\n",
        "# Upload DataFrame to specific sheet tab (worksheet), clears existing data first\n",
        "# def upload_df_to_gsheet(sheet, worksheet_name, df):\n",
        "#     try:\n",
        "#         worksheet = sheet.worksheet(worksheet_name)\n",
        "#         worksheet.clear()\n",
        "#     except gspread.exceptions.WorksheetNotFound:\n",
        "#         worksheet = sheet.add_worksheet(title=worksheet_name, rows=\"100\", cols=\"20\")\n",
        "\n",
        "#     df = df.copy()\n",
        "\n",
        "#     # Convert datetime columns to string\n",
        "#     for col in df.columns:\n",
        "#         if pd.api.types.is_datetime64_any_dtype(df[col]):\n",
        "#             df[col] = df[col].dt.strftime('%Y-%m-%d')\n",
        "\n",
        "#     # Replace problematic values\n",
        "#     df = df.replace([np.inf, -np.inf], np.nan)\n",
        "#     df = df.fillna(\"\")  # or fillna(0) if numeric\n",
        "\n",
        "#     worksheet.update([df.columns.values.tolist()] + df.values.tolist())\n",
        "\n",
        "def upload_df_to_gsheet(sheet, worksheet_name, df):\n",
        "    try:\n",
        "        worksheet = sheet.worksheet(worksheet_name)\n",
        "        worksheet.clear()\n",
        "    except gspread.exceptions.WorksheetNotFound:\n",
        "        worksheet = sheet.add_worksheet(title=worksheet_name, rows=\"100\", cols=\"20\")\n",
        "\n",
        "    df = df.copy()\n",
        "\n",
        "    # 1. Reset index to flatten DataFrame\n",
        "    df.reset_index(drop=True, inplace=True)\n",
        "\n",
        "    # 2. Fix datetime columns\n",
        "    for col in df.columns:\n",
        "        if pd.api.types.is_datetime64_any_dtype(df[col]):\n",
        "            df[col] = df[col].dt.strftime('%Y-%m-%d')\n",
        "\n",
        "    # 3. Remove problematic values\n",
        "    df = df.replace([np.inf, -np.inf], np.nan)\n",
        "    df = df.fillna(\"\")  # For Google Sheets compatibility\n",
        "\n",
        "    # 4. Ensure all column headers are strings\n",
        "    df.columns = [str(c) if c != '' else 'Unnamed' for c in df.columns]\n",
        "\n",
        "    # 5. Upload\n",
        "    worksheet.update([df.columns.tolist()] + df.values.tolist())\n",
        "\n",
        "\n",
        "# --- Usage example ---\n",
        "\n",
        "creds_json = '/content/h2h.json'  # Replace with your credentials file path\n",
        "sheet_name = 'h2h intern'  # Replace with your Google Sheet name\n",
        "\n",
        "sheet = init_gsheets(creds_json, sheet_name)\n",
        "\n",
        "for symbol, df in results.items():  # results from backtest_strategy step\n",
        "    trade_log = extract_trade_log(df)\n",
        "    summary = summary_metrics(df)\n",
        "\n",
        "    upload_df_to_gsheet(sheet, f\"{symbol}_Trade_Log\", trade_log)\n",
        "    upload_df_to_gsheet(sheet, f\"{symbol}_Summary\", summary)\n",
        "    print(f\"Uploading data for: {symbol}, rows: {len(df)}\")\n",
        "\n"
      ],
      "metadata": {
        "colab": {
          "base_uri": "https://localhost:8080/"
        },
        "id": "F7TeWifSYS-5",
        "outputId": "9257959b-03f4-46e9-9ee3-2b597d05d257"
      },
      "execution_count": null,
      "outputs": [
        {
          "output_type": "stream",
          "name": "stdout",
          "text": [
            "Uploading data for: RELIANCE.NS, rows: 7403\n",
            "Uploading data for: HDFCBANK.NS, rows: 7406\n"
          ]
        },
        {
          "output_type": "stream",
          "name": "stderr",
          "text": [
            "/tmp/ipython-input-43-2787848431.py:77: FutureWarning: Downcasting behavior in `replace` is deprecated and will be removed in a future version. To retain the old behavior, explicitly call `result.infer_objects(copy=False)`. To opt-in to the future behavior, set `pd.set_option('future.no_silent_downcasting', True)`\n",
            "  df = df.replace([np.inf, -np.inf], np.nan)\n"
          ]
        },
        {
          "output_type": "stream",
          "name": "stdout",
          "text": [
            "Uploading data for: INFY.NS, rows: 7406\n",
            "Uploading data for: TATAMOTORS.NS, rows: 8709\n",
            "Uploading data for: HINDUNILVR.NS, rows: 7406\n"
          ]
        }
      ]
    },
    {
      "cell_type": "code",
      "source": [
        "def run_algo_pipeline(stock_list, creds_json_path, sheet_name):\n",
        "    # 1. Init Google Sheets\n",
        "    sheet = init_gsheets(creds_json_path, sheet_name)\n",
        "\n",
        "    # 2. Loop through each stock\n",
        "    for symbol in stock_list:\n",
        "        print(f\"\\nProcessing: {symbol}\")\n",
        "\n",
        "        # Fetch historical data (update your fetch function if needed)\n",
        "        df = yf.download(symbol, period=\"max\", interval=\"1d\")\n",
        "        if df.empty:\n",
        "            print(f\"No data for {symbol}\")\n",
        "            continue\n",
        "        df.reset_index(inplace=True)\n",
        "        df['Symbol'] = symbol\n",
        "\n",
        "        # Run strategy and calculate metrics\n",
        "        strategy_df = backtest_strategy(df)\n",
        "        metrics = calculate_metrics(strategy_df)\n",
        "\n",
        "        # Prepare summary as single-row DataFrame\n",
        "        summary = pd.DataFrame([metrics])\n",
        "\n",
        "        # Log to Google Sheets\n",
        "        upload_df_to_gsheet(sheet, f\"{symbol}_Trade_Log\", strategy_df)\n",
        "        upload_df_to_gsheet(sheet, f\"{symbol}_Summary\", summary)\n",
        "\n",
        "        print(f\"Uploaded {symbol} results to Google Sheets.\")\n"
      ],
      "metadata": {
        "id": "plM3lWMdhFsC"
      },
      "execution_count": null,
      "outputs": []
    },
    {
      "cell_type": "code",
      "source": [
        "stocks = ['RELIANCE.NS', 'HDFCBANK.NS', 'INFY.NS', 'TATAMOTORS.NS', 'HINDUNILVR.NS']\n",
        "json_key_path = '/content/h2h.json'\n",
        "sheet_name = 'h2h intern'\n",
        "\n",
        "run_algo_pipeline(stocks, json_key_path, sheet_name)\n"
      ],
      "metadata": {
        "colab": {
          "base_uri": "https://localhost:8080/"
        },
        "id": "jwcOR9nYhil4",
        "outputId": "15cdab10-5f20-4c68-85aa-72b8eb321b98"
      },
      "execution_count": null,
      "outputs": [
        {
          "output_type": "stream",
          "name": "stderr",
          "text": [
            "/tmp/ipython-input-45-271681765.py:10: FutureWarning: YF.download() has changed argument auto_adjust default to True\n",
            "  df = yf.download(symbol, period=\"6mo\", interval=\"1d\")\n",
            "\r[*********************100%***********************]  1 of 1 completed"
          ]
        },
        {
          "output_type": "stream",
          "name": "stdout",
          "text": [
            "\n",
            "Processing: RELIANCE.NS\n"
          ]
        },
        {
          "output_type": "stream",
          "name": "stderr",
          "text": [
            "\n",
            "/tmp/ipython-input-12-3471480569.py:31: FutureWarning: The 'method' keyword in Series.replace is deprecated and will be removed in a future version.\n",
            "  df['Position'] = df['Position'].replace(to_replace=0, method='ffill').shift(1).fillna(0)\n",
            "/tmp/ipython-input-45-271681765.py:10: FutureWarning: YF.download() has changed argument auto_adjust default to True\n",
            "  df = yf.download(symbol, period=\"6mo\", interval=\"1d\")\n",
            "[*********************100%***********************]  1 of 1 completed"
          ]
        },
        {
          "output_type": "stream",
          "name": "stdout",
          "text": [
            "Uploaded RELIANCE.NS results to Google Sheets.\n",
            "\n",
            "Processing: HDFCBANK.NS\n"
          ]
        },
        {
          "output_type": "stream",
          "name": "stderr",
          "text": [
            "\n",
            "/tmp/ipython-input-12-3471480569.py:31: FutureWarning: The 'method' keyword in Series.replace is deprecated and will be removed in a future version.\n",
            "  df['Position'] = df['Position'].replace(to_replace=0, method='ffill').shift(1).fillna(0)\n",
            "/tmp/ipython-input-45-271681765.py:10: FutureWarning: YF.download() has changed argument auto_adjust default to True\n",
            "  df = yf.download(symbol, period=\"6mo\", interval=\"1d\")\n",
            "[*********************100%***********************]  1 of 1 completed"
          ]
        },
        {
          "output_type": "stream",
          "name": "stdout",
          "text": [
            "Uploaded HDFCBANK.NS results to Google Sheets.\n",
            "\n",
            "Processing: INFY.NS\n"
          ]
        },
        {
          "output_type": "stream",
          "name": "stderr",
          "text": [
            "\n",
            "/tmp/ipython-input-12-3471480569.py:31: FutureWarning: The 'method' keyword in Series.replace is deprecated and will be removed in a future version.\n",
            "  df['Position'] = df['Position'].replace(to_replace=0, method='ffill').shift(1).fillna(0)\n",
            "/tmp/ipython-input-45-271681765.py:10: FutureWarning: YF.download() has changed argument auto_adjust default to True\n",
            "  df = yf.download(symbol, period=\"6mo\", interval=\"1d\")\n",
            "[*********************100%***********************]  1 of 1 completed"
          ]
        },
        {
          "output_type": "stream",
          "name": "stdout",
          "text": [
            "Uploaded INFY.NS results to Google Sheets.\n",
            "\n",
            "Processing: TATAMOTORS.NS\n"
          ]
        },
        {
          "output_type": "stream",
          "name": "stderr",
          "text": [
            "\n",
            "/tmp/ipython-input-12-3471480569.py:31: FutureWarning: The 'method' keyword in Series.replace is deprecated and will be removed in a future version.\n",
            "  df['Position'] = df['Position'].replace(to_replace=0, method='ffill').shift(1).fillna(0)\n",
            "/tmp/ipython-input-45-271681765.py:10: FutureWarning: YF.download() has changed argument auto_adjust default to True\n",
            "  df = yf.download(symbol, period=\"6mo\", interval=\"1d\")\n",
            "[*********************100%***********************]  1 of 1 completed"
          ]
        },
        {
          "output_type": "stream",
          "name": "stdout",
          "text": [
            "Uploaded TATAMOTORS.NS results to Google Sheets.\n",
            "\n",
            "Processing: HINDUNILVR.NS\n"
          ]
        },
        {
          "output_type": "stream",
          "name": "stderr",
          "text": [
            "\n",
            "/tmp/ipython-input-12-3471480569.py:31: FutureWarning: The 'method' keyword in Series.replace is deprecated and will be removed in a future version.\n",
            "  df['Position'] = df['Position'].replace(to_replace=0, method='ffill').shift(1).fillna(0)\n"
          ]
        },
        {
          "output_type": "stream",
          "name": "stdout",
          "text": [
            "Uploaded HINDUNILVR.NS results to Google Sheets.\n"
          ]
        }
      ]
    },
    {
      "cell_type": "code",
      "source": [],
      "metadata": {
        "id": "FoPrJUXfhuBO"
      },
      "execution_count": null,
      "outputs": []
    }
  ]
}